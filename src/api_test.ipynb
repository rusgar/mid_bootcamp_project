{
 "cells": [
  {
   "cell_type": "code",
   "execution_count": 18,
   "id": "28a0c9eb",
   "metadata": {},
   "outputs": [],
   "source": [
    "import requests\n",
    "from bson import json_util"
   ]
  },
  {
   "cell_type": "code",
   "execution_count": 19,
   "id": "81f23d9e",
   "metadata": {},
   "outputs": [],
   "source": [
    "url = \"http://127.0.0.1:4500/read\""
   ]
  },
  {
   "cell_type": "code",
   "execution_count": 20,
   "id": "324ffe0d",
   "metadata": {},
   "outputs": [
    {
     "data": {
      "text/plain": [
       "[{'_id': {'$oid': '611695ac3f8ae844203a7859'},\n",
       "  'Paises': ' Finland ',\n",
       "  'Goles Metidos': 1,\n",
       "  'Goles Encajados': 3,\n",
       "  'Tiros a Puerta': 19,\n",
       "  'Penaltis Lanzados': 0,\n",
       "  'Posesion por Partido': 36,\n",
       "  'Entradas/Lances Ganados': 46,\n",
       "  'Entrenador': 'Markku Kanerva'}]"
      ]
     },
     "execution_count": 20,
     "metadata": {},
     "output_type": "execute_result"
    }
   ],
   "source": [
    "params= {\"Paises\":\" Finland \"}\n",
    "requests.get(url, params=params).json()\n"
   ]
  },
  {
   "cell_type": "code",
   "execution_count": 21,
   "id": "5e0d149a",
   "metadata": {},
   "outputs": [
    {
     "data": {
      "text/plain": [
       "[{'_id': {'$oid': '611695ac3f8ae844203a7859'},\n",
       "  'Paises': ' Finland ',\n",
       "  'Goles Metidos': 1,\n",
       "  'Goles Encajados': 3,\n",
       "  'Tiros a Puerta': 19,\n",
       "  'Penaltis Lanzados': 0,\n",
       "  'Posesion por Partido': 36,\n",
       "  'Entradas/Lances Ganados': 46,\n",
       "  'Entrenador': 'Markku Kanerva'}]"
      ]
     },
     "execution_count": 21,
     "metadata": {},
     "output_type": "execute_result"
    }
   ],
   "source": [
    "res= requests.get(url, params=params).json()\n",
    "res"
   ]
  },
  {
   "cell_type": "code",
   "execution_count": 22,
   "id": "bc44e145",
   "metadata": {},
   "outputs": [
    {
     "data": {
      "text/plain": [
       "[{'name': ' Finland ', 'Shoot': 19}]"
      ]
     },
     "execution_count": 22,
     "metadata": {},
     "output_type": "execute_result"
    }
   ],
   "source": [
    "data= {\"Paises\":\" Finland \"}\n",
    "[{\"name\": e [\"Paises\"], \"Shoot\": e [\"Tiros a Puerta\"]} for e in requests.get(url,data).json()]\n"
   ]
  },
  {
   "cell_type": "code",
   "execution_count": 23,
   "id": "672743ee",
   "metadata": {},
   "outputs": [
    {
     "data": {
      "text/plain": [
       "[{'_id': {'$oid': '611695ac3f8ae844203a7859'},\n",
       "  'Paises': ' Finland ',\n",
       "  'Goles Metidos': 1,\n",
       "  'Goles Encajados': 3,\n",
       "  'Tiros a Puerta': 19,\n",
       "  'Penaltis Lanzados': 0,\n",
       "  'Posesion por Partido': 36,\n",
       "  'Entradas/Lances Ganados': 46,\n",
       "  'Entrenador': 'Markku Kanerva'}]"
      ]
     },
     "execution_count": 23,
     "metadata": {},
     "output_type": "execute_result"
    }
   ],
   "source": [
    "res= requests.get(url, params=data).json()\n",
    "res"
   ]
  },
  {
   "cell_type": "code",
   "execution_count": 24,
   "id": "b5417d5c",
   "metadata": {},
   "outputs": [
    {
     "data": {
      "text/plain": [
       "[{'name': ' Finland ', 'Shoot': 19}]"
      ]
     },
     "execution_count": 24,
     "metadata": {},
     "output_type": "execute_result"
    }
   ],
   "source": [
    "res = requests.get(url, params=data)\n",
    "[{\"name\": e [\"Paises\"], \"Shoot\": e [\"Tiros a Puerta\"]} for e in res.json()]"
   ]
  },
  {
   "cell_type": "code",
   "execution_count": 15,
   "id": "9171c983",
   "metadata": {},
   "outputs": [
    {
     "data": {
      "text/plain": [
       "dict_keys(['_id', 'Paises', 'Goles Metidos', 'Goles Encajados', 'Tiros a Puerta', 'Penaltis Lanzados', 'Posesion por Partido', 'Entradas/Lances Ganados'])"
      ]
     },
     "execution_count": 15,
     "metadata": {},
     "output_type": "execute_result"
    }
   ],
   "source": [
    "res.json()[0].keys()"
   ]
  },
  {
   "cell_type": "code",
   "execution_count": 16,
   "id": "bd70249e",
   "metadata": {},
   "outputs": [
    {
     "data": {
      "text/plain": [
       "[{'name': ' Finland ', 'Shoot': 19}]"
      ]
     },
     "execution_count": 16,
     "metadata": {},
     "output_type": "execute_result"
    }
   ],
   "source": [
    "data= {\"Paises\":\" Finland \"}\n",
    "[{\"name\": e [\"Paises\"], \"Shoot\": e [\"Tiros a Puerta\"]} for e in requests.get(url,data).json()]"
   ]
  },
  {
   "cell_type": "code",
   "execution_count": 17,
   "id": "2caabf31",
   "metadata": {},
   "outputs": [
    {
     "data": {
      "text/plain": [
       "'http://127.0.0.1:4500/read?Paises=+Finland+'"
      ]
     },
     "execution_count": 17,
     "metadata": {},
     "output_type": "execute_result"
    }
   ],
   "source": [
    "res.url"
   ]
  },
  {
   "cell_type": "code",
   "execution_count": 84,
   "id": "7250585d",
   "metadata": {},
   "outputs": [
    {
     "data": {
      "text/plain": [
       "[{'name': ' Finland ', 'Shoot': 19}]"
      ]
     },
     "execution_count": 84,
     "metadata": {},
     "output_type": "execute_result"
    }
   ],
   "source": [
    "data= {\"Paises\":\" Finland \"}\n",
    "[{\"name\": e [\"Paises\"], \"Shoot\": e [\"Tiros a Puerta\"]} for e in requests.get(url,data).json()]"
   ]
  },
  {
   "cell_type": "code",
   "execution_count": 85,
   "id": "e62f9fcc",
   "metadata": {},
   "outputs": [],
   "source": [
    "x= {\"mongo_query\":'''\n",
    "                       {\"Paises\":\" Finland \",\n",
    "                       \"Tiros a Puerta\": 19}\n",
    "                   '''}"
   ]
  },
  {
   "cell_type": "code",
   "execution_count": 25,
   "id": "98963a6e",
   "metadata": {},
   "outputs": [
    {
     "data": {
      "text/plain": [
       "[{'_id': {'$oid': '611695ac3f8ae844203a7859'},\n",
       "  'Paises': ' Finland ',\n",
       "  'Goles Metidos': 1,\n",
       "  'Goles Encajados': 3,\n",
       "  'Tiros a Puerta': 19,\n",
       "  'Penaltis Lanzados': 0,\n",
       "  'Posesion por Partido': 36,\n",
       "  'Entradas/Lances Ganados': 46,\n",
       "  'Entrenador': 'Markku Kanerva'}]"
      ]
     },
     "execution_count": 25,
     "metadata": {},
     "output_type": "execute_result"
    }
   ],
   "source": [
    "x= {\"Paises\":\" Finland \"}\n",
    "requests.get(url, params=x).json()\n",
    "res= requests.get(url, params=x).json()\n",
    "res"
   ]
  },
  {
   "cell_type": "code",
   "execution_count": 26,
   "id": "7d09137f",
   "metadata": {},
   "outputs": [
    {
     "data": {
      "text/plain": [
       "[{'_id': {'$oid': '611695ac3f8ae844203a7851'},\n",
       "  'Paises': ' Sweden ',\n",
       "  'Goles Metidos': 5,\n",
       "  'Goles Encajados': 4,\n",
       "  'Tiros a Puerta': 41,\n",
       "  'Penaltis Lanzados': 0,\n",
       "  'Posesion por Partido': 33,\n",
       "  'Entradas/Lances Ganados': 44,\n",
       "  'Entrenador': 'Jan Andersson'},\n",
       " {'_id': {'$oid': '611695ac3f8ae844203a7862'},\n",
       "  'Paises': ' Austria ',\n",
       "  'Goles Metidos': 5,\n",
       "  'Goles Encajados': 5,\n",
       "  'Tiros a Puerta': 53,\n",
       "  'Penaltis Lanzados': 0,\n",
       "  'Posesion por Partido': 53,\n",
       "  'Entradas/Lances Ganados': 51,\n",
       "  'Entrenador': 'Franco Foda'}]"
      ]
     },
     "execution_count": 26,
     "metadata": {},
     "output_type": "execute_result"
    }
   ],
   "source": [
    "x= {\"Goles Metidos\":5}\n",
    "res= requests.get(url, params=x)\n",
    "res.json()"
   ]
  },
  {
   "cell_type": "code",
   "execution_count": 28,
   "id": "c38dce17",
   "metadata": {},
   "outputs": [
    {
     "data": {
      "text/plain": [
       "'http://127.0.0.1:4500/read?Goles+Metidos=5'"
      ]
     },
     "execution_count": 28,
     "metadata": {},
     "output_type": "execute_result"
    }
   ],
   "source": [
    "res.url\n"
   ]
  },
  {
   "cell_type": "code",
   "execution_count": 89,
   "id": "c713460a",
   "metadata": {},
   "outputs": [
    {
     "data": {
      "text/plain": [
       "['error']"
      ]
     },
     "execution_count": 89,
     "metadata": {},
     "output_type": "execute_result"
    }
   ],
   "source": [
    "x= {\"Goles Metidos\":\"hola\"}\n",
    "res= requests.get(url, params=x)\n",
    "[e for e in res.json()]"
   ]
  },
  {
   "cell_type": "code",
   "execution_count": 90,
   "id": "307700de",
   "metadata": {},
   "outputs": [
    {
     "data": {
      "text/plain": [
       "{'error': \"invalid literal for int() with base 10: 'hola'\"}"
      ]
     },
     "execution_count": 90,
     "metadata": {},
     "output_type": "execute_result"
    }
   ],
   "source": [
    "x= {\"Goles Metidos\":\"hola\"}\n",
    "res= requests.get(url, params=x)\n",
    "res.json()"
   ]
  },
  {
   "cell_type": "code",
   "execution_count": 91,
   "id": "e9ab3836",
   "metadata": {},
   "outputs": [
    {
     "data": {
      "text/plain": [
       "{'hello': 'spain'}"
      ]
     },
     "execution_count": 91,
     "metadata": {},
     "output_type": "execute_result"
    }
   ],
   "source": [
    "json_util.loads('{\"hello\":\"spain\"}')"
   ]
  },
  {
   "cell_type": "code",
   "execution_count": null,
   "id": "239bfb8c",
   "metadata": {},
   "outputs": [],
   "source": []
  },
  {
   "cell_type": "code",
   "execution_count": null,
   "id": "e2994167",
   "metadata": {},
   "outputs": [],
   "source": [
    "\n"
   ]
  },
  {
   "cell_type": "code",
   "execution_count": null,
   "id": "f988c4dd",
   "metadata": {},
   "outputs": [],
   "source": []
  },
  {
   "cell_type": "code",
   "execution_count": null,
   "id": "3c1e4178",
   "metadata": {},
   "outputs": [],
   "source": []
  },
  {
   "cell_type": "code",
   "execution_count": null,
   "id": "4b2b7147",
   "metadata": {},
   "outputs": [],
   "source": [
    "\n",
    "\n"
   ]
  },
  {
   "cell_type": "code",
   "execution_count": null,
   "id": "ab72d124",
   "metadata": {},
   "outputs": [],
   "source": []
  },
  {
   "cell_type": "code",
   "execution_count": null,
   "id": "e0705b9f",
   "metadata": {},
   "outputs": [],
   "source": []
  },
  {
   "cell_type": "code",
   "execution_count": null,
   "id": "91c30e10",
   "metadata": {},
   "outputs": [],
   "source": []
  },
  {
   "cell_type": "code",
   "execution_count": null,
   "id": "0dd3983d",
   "metadata": {},
   "outputs": [],
   "source": []
  },
  {
   "cell_type": "code",
   "execution_count": null,
   "id": "37f98caa",
   "metadata": {},
   "outputs": [],
   "source": []
  },
  {
   "cell_type": "code",
   "execution_count": null,
   "id": "df2d696f",
   "metadata": {},
   "outputs": [],
   "source": []
  }
 ],
 "metadata": {
  "kernelspec": {
   "display_name": "Python 3",
   "language": "python",
   "name": "python3"
  },
  "language_info": {
   "codemirror_mode": {
    "name": "ipython",
    "version": 3
   },
   "file_extension": ".py",
   "mimetype": "text/x-python",
   "name": "python",
   "nbconvert_exporter": "python",
   "pygments_lexer": "ipython3",
   "version": "3.9.5"
  }
 },
 "nbformat": 4,
 "nbformat_minor": 5
}
