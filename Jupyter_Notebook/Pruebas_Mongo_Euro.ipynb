{
 "cells": [
  {
   "cell_type": "code",
   "execution_count": 1,
   "id": "cd793d20",
   "metadata": {},
   "outputs": [],
   "source": [
    "from pymongo import MongoClient"
   ]
  },
  {
   "cell_type": "code",
   "execution_count": 2,
   "id": "b6d25d76",
   "metadata": {},
   "outputs": [],
   "source": [
    "client = MongoClient()\n",
    "db = client.get_database(\"core\")"
   ]
  },
  {
   "cell_type": "code",
   "execution_count": 3,
   "id": "4b6803be",
   "metadata": {},
   "outputs": [
    {
     "data": {
      "text/plain": [
       "Database(MongoClient(host=['localhost:27017'], document_class=dict, tz_aware=False, connect=True), 'core')"
      ]
     },
     "execution_count": 3,
     "metadata": {},
     "output_type": "execute_result"
    }
   ],
   "source": [
    "db"
   ]
  },
  {
   "cell_type": "code",
   "execution_count": 4,
   "id": "ebed4e03",
   "metadata": {},
   "outputs": [
    {
     "data": {
      "text/plain": [
       "Collection(Database(MongoClient(host=['localhost:27017'], document_class=dict, tz_aware=False, connect=True), 'core'), 'euro')"
      ]
     },
     "execution_count": 4,
     "metadata": {},
     "output_type": "execute_result"
    }
   ],
   "source": [
    "db.euro"
   ]
  },
  {
   "cell_type": "code",
   "execution_count": 5,
   "id": "70870b2c",
   "metadata": {},
   "outputs": [
    {
     "data": {
      "text/plain": [
       "Collection(Database(MongoClient(host=['localhost:27017'], document_class=dict, tz_aware=False, connect=True), 'core'), 'test')"
      ]
     },
     "execution_count": 5,
     "metadata": {},
     "output_type": "execute_result"
    }
   ],
   "source": [
    "db.test\n"
   ]
  },
  {
   "cell_type": "code",
   "execution_count": 6,
   "id": "2246c772",
   "metadata": {},
   "outputs": [
    {
     "data": {
      "text/plain": [
       "<pymongo.results.InsertOneResult at 0x7fb2b42be200>"
      ]
     },
     "execution_count": 6,
     "metadata": {},
     "output_type": "execute_result"
    }
   ],
   "source": [
    "db.test.insert_one({\"Name\": \"Edu\"})"
   ]
  },
  {
   "cell_type": "code",
   "execution_count": 7,
   "id": "12e808cb",
   "metadata": {},
   "outputs": [],
   "source": [
    "euro = db.euro"
   ]
  },
  {
   "cell_type": "code",
   "execution_count": 8,
   "id": "e7af0b50",
   "metadata": {},
   "outputs": [
    {
     "data": {
      "text/plain": [
       "<pymongo.cursor.Cursor at 0x7fb2b402a0d0>"
      ]
     },
     "execution_count": 8,
     "metadata": {},
     "output_type": "execute_result"
    }
   ],
   "source": [
    "euro.find({\"stage\":\"Final\"})"
   ]
  },
  {
   "cell_type": "code",
   "execution_count": 21,
   "id": "374b65b6",
   "metadata": {},
   "outputs": [],
   "source": [
    "cur = euro.find({\"stage\":\"Final\"})"
   ]
  },
  {
   "cell_type": "code",
   "execution_count": 22,
   "id": "82d094a1",
   "metadata": {},
   "outputs": [
    {
     "data": {
      "text/plain": [
       "[{'_id': ObjectId('610d0e246c76d7e03ccdc570'),\n",
       "  'stage': 'Final',\n",
       "  'date': '11.07.2021',\n",
       "  'pens': 'True',\n",
       "  'pens_home_score': 3,\n",
       "  'pens_away_score': 2,\n",
       "  'team_name_home': 'Italy',\n",
       "  'team_name_away': 'England',\n",
       "  'team_home_score': 1,\n",
       "  'team_away_score': 1,\n",
       "  'possession_home': '66%',\n",
       "  'possession_away': '34%',\n",
       "  'total_shots_home': 19,\n",
       "  'total_shots_away': 6,\n",
       "  'shots_on_target_home': 6,\n",
       "  'shots_on_target_away': 2,\n",
       "  'duels_won_home': '53%',\n",
       "  'duels_won_away': '47%',\n",
       "  'events_list': '[{\\'event_team\\': \\'away\\', \\'event_time\\': \" 2\\' \", \\'event_type\\': \\'Goal\\', \\'action_player_1\\': \\' Luke Shaw \\', \\'action_player_2\\': \\' Kieran Trippier \\'}, {\\'event_team\\': \\'home\\', \\'event_time\\': \" 47\\' \", \\'event_type\\': \\'Yellow card\\', \\'action_player_1\\': \\' Nicolo Barella \\'}, {\\'event_team\\': \\'home\\', \\'event_time\\': \" 54\\' \", \\'event_type\\': \\'Substitution\\', \\'action_player_1\\': \\' Bryan Cristante \\', \\'action_player_2\\': \\' Nicolo Barella \\'}, {\\'event_team\\': \\'home\\', \\'event_time\\': \" 55\\' \", \\'event_type\\': \\'Yellow card\\', \\'action_player_1\\': \\' Leonardo Bonucci \\'}, {\\'event_team\\': \\'home\\', \\'event_time\\': \" 55\\' \", \\'event_type\\': \\'Substitution\\', \\'action_player_1\\': \\' Domenico Berardi \\', \\'action_player_2\\': \\' Ciro Immobile \\'}, {\\'event_team\\': \\'home\\', \\'event_time\\': \" 67\\' \", \\'event_type\\': \\'Goal\\', \\'action_player_1\\': \\' Leonardo Bonucci \\'}, {\\'event_team\\': \\'away\\', \\'event_time\\': \" 70\\' \", \\'event_type\\': \\'Substitution\\', \\'action_player_1\\': \\' Bukayo Saka \\', \\'action_player_2\\': \\' Kieran Trippier \\'}, {\\'event_team\\': \\'away\\', \\'event_time\\': \" 74\\' \", \\'event_type\\': \\'Substitution\\', \\'action_player_1\\': \\' Jordan Henderson \\', \\'action_player_2\\': \\' Declan Rice \\'}, {\\'event_team\\': \\'home\\', \\'event_time\\': \" 84\\' \", \\'event_type\\': \\'Yellow card\\', \\'action_player_1\\': \\' Lorenzo Insigne \\'}, {\\'event_team\\': \\'home\\', \\'event_time\\': \" 86\\' \", \\'event_type\\': \\'Substitution\\', \\'action_player_1\\': \\' Federico Bernardeschi \\', \\'action_player_2\\': \\' Federico Chiesa \\'}, {\\'event_team\\': \\'home\\', \\'event_time\\': \" 96\\' \", \\'event_type\\': \\'Yellow card\\', \\'action_player_1\\': \\' Giorgio Chiellini \\'}, {\\'event_team\\': \\'home\\', \\'event_time\\': \" 90\\' \", \\'event_type\\': \\'Substitution\\', \\'action_player_1\\': \\' Andrea Belotti \\', \\'action_player_2\\': \\' Lorenzo Insigne \\'}, {\\'event_team\\': \\'home\\', \\'event_time\\': \" 96\\' \", \\'event_type\\': \\'Substitution\\', \\'action_player_1\\': \\' Manuel Locatelli \\', \\'action_player_2\\': \\' Marco Verratti \\'}, {\\'event_team\\': \\'away\\', \\'event_time\\': \" 99\\' \", \\'event_type\\': \\'Substitution\\', \\'action_player_1\\': \\' Jack Grealish \\', \\'action_player_2\\': \\' Mason Mount \\'}, {\\'event_team\\': \\'away\\', \\'event_time\\': \" 106\\' \", \\'event_type\\': \\'Yellow card\\', \\'action_player_1\\': \\' Harry Maguire \\'}, {\\'event_team\\': \\'home\\', \\'event_time\\': \" 114\\' \", \\'event_type\\': \\'Yellow card\\', \\'action_player_1\\': \\' Jorginho \\'}, {\\'event_team\\': \\'home\\', \\'event_time\\': \" 118\\' \", \\'event_type\\': \\'Substitution\\', \\'action_player_1\\': \\' Alessandro Florenzi \\', \\'action_player_2\\': \\' Emerson \\'}, {\\'event_team\\': \\'away\\', \\'event_time\\': \" 120\\' \", \\'event_type\\': \\'Substitution\\', \\'action_player_1\\': \\' Marcus Rashford \\', \\'action_player_2\\': \\' Jordan Henderson \\'}, {\\'event_team\\': \\'away\\', \\'event_time\\': \" 120\\' \", \\'event_type\\': \\'Substitution\\', \\'action_player_1\\': \\' Jadon Sancho \\', \\'action_player_2\\': \\' Kyle Walker \\'}, {\\'event_team\\': \\'home\\', \\'event_time\\': False, \\'event_type\\': \\'PK\\', \\'event_result\\': \\'Goal\\', \\'event_player\\': \\' Domenico Berardi \\'}, {\\'event_team\\': \\'away\\', \\'event_time\\': False, \\'event_type\\': \\'PK\\', \\'event_result\\': \\'Goal\\', \\'event_player\\': \\' Harry Kane \\'}, {\\'event_team\\': \\'home\\', \\'event_time\\': False, \\'event_type\\': \\'PK\\', \\'event_result\\': \\'Missed\\', \\'event_player\\': \\' Andrea Belotti \\'}, {\\'event_team\\': \\'away\\', \\'event_time\\': False, \\'event_type\\': \\'PK\\', \\'event_result\\': \\'Goal\\', \\'event_player\\': \\' Harry Maguire \\'}, {\\'event_team\\': \\'home\\', \\'event_time\\': False, \\'event_type\\': \\'PK\\', \\'event_result\\': \\'Goal\\', \\'event_player\\': \\' Leonardo Bonucci \\'}, {\\'event_team\\': \\'away\\', \\'event_time\\': False, \\'event_type\\': \\'PK\\', \\'event_result\\': \\'Missed\\', \\'event_player\\': \\' Marcus Rashford \\'}, {\\'event_team\\': \\'home\\', \\'event_time\\': False, \\'event_type\\': \\'PK\\', \\'event_result\\': \\'Goal\\', \\'event_player\\': \\' Federico Bernardeschi \\'}, {\\'event_team\\': \\'away\\', \\'event_time\\': False, \\'event_type\\': \\'PK\\', \\'event_result\\': \\'Missed\\', \\'event_player\\': \\' Jadon Sancho \\'}, {\\'event_team\\': \\'home\\', \\'event_time\\': False, \\'event_type\\': \\'PK\\', \\'event_result\\': \\'Missed\\', \\'event_player\\': \\' Jorginho \\'}, {\\'event_team\\': \\'away\\', \\'event_time\\': False, \\'event_type\\': \\'PK\\', \\'event_result\\': \\'Missed\\', \\'event_player\\': \\' Bukayo Saka \\'}]',\n",
       "  'lineup_home': \"[{'Player_Name': 'Insigne', 'Player_Number': '10'}, {'Player_Name': 'Immobile', 'Player_Number': '17'}, {'Player_Name': 'Chiesa', 'Player_Number': '14'}, {'Player_Name': 'Verratti', 'Player_Number': '6'}, {'Player_Name': 'Jorginho', 'Player_Number': '8'}, {'Player_Name': 'Barella', 'Player_Number': '18'}, {'Player_Name': 'Emerson', 'Player_Number': '13'}, {'Player_Name': 'Chiellini', 'Player_Number': '3'}, {'Player_Name': 'Bonucci', 'Player_Number': '19'}, {'Player_Name': 'Di Lorenzo', 'Player_Number': '2'}, {'Player_Name': 'Donnarumma', 'Player_Number': '21'}]\",\n",
       "  'lineup_away': \"[{'Player_Name': 'Kane', 'Player_Number': '9'}, {'Player_Name': 'Mount', 'Player_Number': '19'}, {'Player_Name': 'Sterling', 'Player_Number': '10'}, {'Player_Name': 'Shaw', 'Player_Number': '3'}, {'Player_Name': 'Rice', 'Player_Number': '4'}, {'Player_Name': 'Phillips', 'Player_Number': '14'}, {'Player_Name': 'Trippier', 'Player_Number': '12'}, {'Player_Name': 'Maguire', 'Player_Number': '6'}, {'Player_Name': 'Stones', 'Player_Number': '5'}, {'Player_Name': 'Walker', 'Player_Number': '2'}, {'Player_Name': 'Pickford', 'Player_Number': '1'}]\"}]"
      ]
     },
     "execution_count": 22,
     "metadata": {},
     "output_type": "execute_result"
    }
   ],
   "source": [
    "list(cur)"
   ]
  },
  {
   "cell_type": "code",
   "execution_count": 45,
   "id": "ffe3d704",
   "metadata": {},
   "outputs": [],
   "source": [
    "cur = euro.find({\"shots_on_target_home\":6})"
   ]
  },
  {
   "cell_type": "code",
   "execution_count": 46,
   "id": "7e8bad2c",
   "metadata": {},
   "outputs": [
    {
     "data": {
      "text/plain": [
       "7"
      ]
     },
     "execution_count": 46,
     "metadata": {},
     "output_type": "execute_result"
    }
   ],
   "source": [
    "len(list(cur))"
   ]
  },
  {
   "cell_type": "code",
   "execution_count": 47,
   "id": "1eef088a",
   "metadata": {},
   "outputs": [],
   "source": [
    "cur = euro.find({\"shots_on_target_home\":6})"
   ]
  },
  {
   "cell_type": "code",
   "execution_count": 48,
   "id": "f71ece34",
   "metadata": {},
   "outputs": [
    {
     "data": {
      "text/plain": [
       "7"
      ]
     },
     "execution_count": 48,
     "metadata": {},
     "output_type": "execute_result"
    }
   ],
   "source": [
    "tiros_casa = len(list(cur))\n",
    "tiros_casa"
   ]
  },
  {
   "cell_type": "code",
   "execution_count": null,
   "id": "da545e2e",
   "metadata": {},
   "outputs": [],
   "source": []
  },
  {
   "cell_type": "code",
   "execution_count": 57,
   "id": "87af66e2",
   "metadata": {},
   "outputs": [],
   "source": [
    "filt = {\"pens\":\"True\"}\n",
    "project = {\"pens_home_score\":1, \"_id\":0}\n",
    "penaltis =list( euro.find(filt, project))"
   ]
  },
  {
   "cell_type": "code",
   "execution_count": 56,
   "id": "09b5310c",
   "metadata": {},
   "outputs": [
    {
     "data": {
      "text/plain": [
       "[{'pens_home_score': 3},\n",
       " {'pens_home_score': 4},\n",
       " {'pens_home_score': 1},\n",
       " {'pens_home_score': 4}]"
      ]
     },
     "execution_count": 56,
     "metadata": {},
     "output_type": "execute_result"
    }
   ],
   "source": [
    "penaltis"
   ]
  },
  {
   "cell_type": "code",
   "execution_count": 61,
   "id": "f8be964c",
   "metadata": {},
   "outputs": [
    {
     "data": {
      "text/plain": [
       "13"
      ]
     },
     "execution_count": 61,
     "metadata": {},
     "output_type": "execute_result"
    }
   ],
   "source": [
    "len(list(euro.find({\"duels_won_home\": {\"$lte\":\"45%\"}})))"
   ]
  },
  {
   "cell_type": "code",
   "execution_count": 69,
   "id": "01cfe25b",
   "metadata": {},
   "outputs": [
    {
     "data": {
      "text/plain": [
       "12"
      ]
     },
     "execution_count": 69,
     "metadata": {},
     "output_type": "execute_result"
    }
   ],
   "source": [
    "len(list(euro.find({\"team_name_away\":{\"$regex\":\"^[Ss]\"}})))"
   ]
  },
  {
   "cell_type": "code",
   "execution_count": 70,
   "id": "a70ff4dc",
   "metadata": {},
   "outputs": [
    {
     "data": {
      "text/plain": [
       "['Austria',\n",
       " 'Belgium',\n",
       " 'Croatia',\n",
       " 'Czech Republic',\n",
       " 'Denmark',\n",
       " 'England',\n",
       " 'Finland',\n",
       " 'France',\n",
       " 'Germany',\n",
       " 'Hungary',\n",
       " 'Italy',\n",
       " 'Netherlands',\n",
       " 'North Macedonia',\n",
       " 'Poland',\n",
       " 'Portugal',\n",
       " 'Russia',\n",
       " 'Scotland',\n",
       " 'Slovakia',\n",
       " 'Spain',\n",
       " 'Sweden',\n",
       " 'Switzerland',\n",
       " 'Turkey',\n",
       " 'Ukraine',\n",
       " 'Wales']"
      ]
     },
     "execution_count": 70,
     "metadata": {},
     "output_type": "execute_result"
    }
   ],
   "source": [
    "euro.find({}).distinct(\"team_name_away\")"
   ]
  },
  {
   "cell_type": "code",
   "execution_count": null,
   "id": "674e41d7",
   "metadata": {},
   "outputs": [],
   "source": [
    "euro.find(\n",
    "{\n",
    "    \n",
    "})"
   ]
  }
 ],
 "metadata": {
  "kernelspec": {
   "display_name": "Python 3",
   "language": "python",
   "name": "python3"
  },
  "language_info": {
   "codemirror_mode": {
    "name": "ipython",
    "version": 3
   },
   "file_extension": ".py",
   "mimetype": "text/x-python",
   "name": "python",
   "nbconvert_exporter": "python",
   "pygments_lexer": "ipython3",
   "version": "3.9.5"
  }
 },
 "nbformat": 4,
 "nbformat_minor": 5
}
